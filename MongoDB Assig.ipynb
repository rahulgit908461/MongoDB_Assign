{
 "cells": [
  {
   "cell_type": "code",
   "execution_count": 1,
   "id": "df5f92e4-f991-4f79-93f5-4a4e95af16ae",
   "metadata": {},
   "outputs": [],
   "source": [
    "#Q1. What is MongoDB? Explain non-relational databases in short. \n",
    "#In which scenarios it is preferred to use MongoDB over SQL databases?"
   ]
  },
  {
   "cell_type": "code",
   "execution_count": 2,
   "id": "086d1c63-6fb6-40f9-befb-ff85191072b2",
   "metadata": {},
   "outputs": [],
   "source": [
    "#MongoDB is built on a scale-out architecture that has become popular\n",
    "#with developers of all kinds for developing scalable applications\n",
    "#with evolving data schemas. As a document database, MongoDB makes \n",
    "#it easy for developers to store structured or unstructured data. \n",
    "#It uses a JSON-like format to store documents.\n",
    "\n",
    "#a database that does not use the tabular schema of rows and \n",
    "#columns found in most traditional database systems.\n",
    "\n",
    "#SQL databases are used to store structured data while NoSQL \n",
    "#databases like MongoDB are used to save unstructured data. \n",
    "#MongoDB is used to save unstructured data in JSON format."
   ]
  },
  {
   "cell_type": "code",
   "execution_count": 3,
   "id": "0840dd7d-4f36-424f-96d1-877bd993a5f5",
   "metadata": {},
   "outputs": [],
   "source": [
    "#Q2. State and Explain the features of MongoDB."
   ]
  },
  {
   "cell_type": "code",
   "execution_count": 4,
   "id": "d7f92780-ac6c-48aa-8d78-8b52466f9987",
   "metadata": {},
   "outputs": [],
   "source": [
    "#MongoDB Features\n",
    "#horizontal scaling and load balancing capabilities\n",
    "#Ad-hoc queries for optimized, real-time analytics.\n",
    "#Indexing appropriately for better query executions.\n",
    "#Replication for better data availability and stability.\n",
    "#Sharding.\n",
    "#Load balancing."
   ]
  },
  {
   "cell_type": "code",
   "execution_count": 5,
   "id": "ec8e0a5b-f3de-4039-9116-a9d8255699b8",
   "metadata": {},
   "outputs": [],
   "source": [
    "#Q3. Write a code to connect MongoDB to Python. Also, create a \n",
    "#database and a collection in MongoDB."
   ]
  },
  {
   "cell_type": "code",
   "execution_count": 6,
   "id": "a7ee6355-5923-4184-869a-d4ce2c4c7a79",
   "metadata": {},
   "outputs": [],
   "source": [
    "# python -m venv env\n",
    "# source env/bin/activate\n",
    "#python -m pip install \"pymongo[srv]\"\n",
    "\n",
    "## Get the database using the method we defined in pymongo_test_insert file\n",
    "#from pymongo_get_database import get_database\n",
    "#dbname = get_database()\n",
    "#collection_name = dbname[\"user_1_items\"]"
   ]
  },
  {
   "cell_type": "code",
   "execution_count": 8,
   "id": "83c591fd-81c3-4915-8254-ed2029a07746",
   "metadata": {},
   "outputs": [],
   "source": [
    "#Q5. Explain how you can use the find() method to query the MongoDB database. Write a simple code to\n",
    "#demonstrate this."
   ]
  },
  {
   "cell_type": "code",
   "execution_count": 9,
   "id": "069c0102-ac02-4824-8fdb-2971ee9f085d",
   "metadata": {},
   "outputs": [],
   "source": [
    "#In mongoDB, the find() method is used to fetch a particular data from the table. In other words, it is used to select data in a table.\n",
    "#db.collection.find(query, projection, options)"
   ]
  },
  {
   "cell_type": "code",
   "execution_count": 10,
   "id": "08b2ee15-9f02-4433-bb90-4e9a44c44442",
   "metadata": {},
   "outputs": [],
   "source": [
    "#Q6. Explain the sort() method. Give an example to demonstrate sorting in MongoDB."
   ]
  },
  {
   "cell_type": "code",
   "execution_count": 11,
   "id": "6a6b96c8-8f46-4f14-8382-408a72b2abff",
   "metadata": {},
   "outputs": [],
   "source": [
    "#Q6. Explain the sort() method. Give an example to demonstrate sorting in MongoDB.\n"
   ]
  },
  {
   "cell_type": "code",
   "execution_count": 12,
   "id": "7027e826-e8ba-4da4-b38d-fe25e100f8d4",
   "metadata": {},
   "outputs": [],
   "source": [
    "#The sort() method specifies the order in which the query returns the matching documents from the given collection.\n",
    "#db.Collection_Name.sort({filed_name:1 or -1})\n",
    "#Let's we have staff datacollection then we need to find id of total staff then we can see by use of the below code.\n",
    "#db.staff.find().sort({staff_id:1})\n",
    "#db.staff.find().sort({staff_id:-1})"
   ]
  },
  {
   "cell_type": "code",
   "execution_count": 13,
   "id": "5959ab9d-1b4c-43a6-b0d5-9418f17cbbdc",
   "metadata": {},
   "outputs": [],
   "source": [
    "#Explain why delete_one(), delete_many(), and drop() is used."
   ]
  },
  {
   "cell_type": "code",
   "execution_count": 14,
   "id": "caef7b3f-fce6-4ee7-85fd-2565fbe7d395",
   "metadata": {},
   "outputs": [],
   "source": [
    "#To delete a record, or document as it is called in MongoDB, we use the deleteOne() method. The first parameter of the deleteOne() method is a query object defining which document to delete.\n",
    "\n",
    "#To delete more than one document, use the delete_many() method. The first parameter of the delete_many() method is a query object defining which documents to delete.\n",
    "\n",
    "#In MongoDB, db. collection. drop() method is used to drop a collection from a database. It completely removes a collection from the database and does not leave any indexes associated with the dropped collections.\n"
   ]
  },
  {
   "cell_type": "code",
   "execution_count": null,
   "id": "f0d8decd-c07a-4733-9c54-21309ab7fc32",
   "metadata": {},
   "outputs": [],
   "source": []
  }
 ],
 "metadata": {
  "kernelspec": {
   "display_name": "Python 3 (ipykernel)",
   "language": "python",
   "name": "python3"
  },
  "language_info": {
   "codemirror_mode": {
    "name": "ipython",
    "version": 3
   },
   "file_extension": ".py",
   "mimetype": "text/x-python",
   "name": "python",
   "nbconvert_exporter": "python",
   "pygments_lexer": "ipython3",
   "version": "3.10.8"
  }
 },
 "nbformat": 4,
 "nbformat_minor": 5
}
